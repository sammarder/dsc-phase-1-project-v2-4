{
 "cells": [
  {
   "cell_type": "markdown",
   "metadata": {},
   "source": [
    "## Final Project Submission\n",
    "\n",
    "Please fill out:\n",
    "* Student name: Samuel Marder\n",
    "* Student pace: self paced\n",
    "* Scheduled project review date/time: \n",
    "* Instructor name: Matt Carr\n",
    "* Blog post URL: https://medium.com/@samuel.s.marder/slight-right-onto-data-science-64912ef3bd67\n"
   ]
  },
  {
   "cell_type": "markdown",
   "metadata": {},
   "source": [
    "## Set up standard imports for data"
   ]
  },
  {
   "cell_type": "code",
   "execution_count": 1,
   "metadata": {},
   "outputs": [],
   "source": [
    "import pandas as pd\n",
    "import seaborn as sns\n",
    "import sqlite3\n",
    "import matplotlib.pyplot as plt\n",
    "%matplotlib inline"
   ]
  },
  {
   "cell_type": "code",
   "execution_count": 2,
   "metadata": {},
   "outputs": [],
   "source": [
    "conn = sqlite3.connect(\"data/im.db\")"
   ]
  },
  {
   "cell_type": "code",
   "execution_count": 3,
   "metadata": {},
   "outputs": [
    {
     "data": {
      "text/html": [
       "<div>\n",
       "<style scoped>\n",
       "    .dataframe tbody tr th:only-of-type {\n",
       "        vertical-align: middle;\n",
       "    }\n",
       "\n",
       "    .dataframe tbody tr th {\n",
       "        vertical-align: top;\n",
       "    }\n",
       "\n",
       "    .dataframe thead th {\n",
       "        text-align: right;\n",
       "    }\n",
       "</style>\n",
       "<table border=\"1\" class=\"dataframe\">\n",
       "  <thead>\n",
       "    <tr style=\"text-align: right;\">\n",
       "      <th></th>\n",
       "      <th>primary_name</th>\n",
       "      <th>primary_title</th>\n",
       "    </tr>\n",
       "  </thead>\n",
       "  <tbody>\n",
       "    <tr>\n",
       "      <th>0</th>\n",
       "      <td>Ruel S. Bayani</td>\n",
       "      <td>Paano na kaya</td>\n",
       "    </tr>\n",
       "    <tr>\n",
       "      <th>4</th>\n",
       "      <td>Ruel S. Bayani</td>\n",
       "      <td>No Other Woman</td>\n",
       "    </tr>\n",
       "    <tr>\n",
       "      <th>7</th>\n",
       "      <td>Ruel S. Bayani</td>\n",
       "      <td>One More Try</td>\n",
       "    </tr>\n",
       "    <tr>\n",
       "      <th>8</th>\n",
       "      <td>Ruel S. Bayani</td>\n",
       "      <td>Kasal</td>\n",
       "    </tr>\n",
       "    <tr>\n",
       "      <th>10</th>\n",
       "      <td>Bryan Beasley</td>\n",
       "      <td>The Quiet Philanthropist: The Edith Gaylord Story</td>\n",
       "    </tr>\n",
       "  </tbody>\n",
       "</table>\n",
       "</div>"
      ],
      "text/plain": [
       "      primary_name                                      primary_title\n",
       "0   Ruel S. Bayani                                      Paano na kaya\n",
       "4   Ruel S. Bayani                                     No Other Woman\n",
       "7   Ruel S. Bayani                                       One More Try\n",
       "8   Ruel S. Bayani                                              Kasal\n",
       "10   Bryan Beasley  The Quiet Philanthropist: The Edith Gaylord Story"
      ]
     },
     "execution_count": 3,
     "metadata": {},
     "output_type": "execute_result"
    }
   ],
   "source": [
    "q = \"\"\"SELECT p.primary_name,\n",
    "mb.primary_title\n",
    "FROM persons as p \n",
    "JOIN directors USING (person_id)\n",
    "JOIN movie_basics as mb USING (movie_id)\"\"\"\n",
    "director_movie_df = pd.read_sql(q, conn).drop_duplicates()\n",
    "director_movie_df.head()"
   ]
  },
  {
   "cell_type": "code",
   "execution_count": 4,
   "metadata": {},
   "outputs": [
    {
     "data": {
      "text/html": [
       "<div>\n",
       "<style scoped>\n",
       "    .dataframe tbody tr th:only-of-type {\n",
       "        vertical-align: middle;\n",
       "    }\n",
       "\n",
       "    .dataframe tbody tr th {\n",
       "        vertical-align: top;\n",
       "    }\n",
       "\n",
       "    .dataframe thead th {\n",
       "        text-align: right;\n",
       "    }\n",
       "</style>\n",
       "<table border=\"1\" class=\"dataframe\">\n",
       "  <thead>\n",
       "    <tr style=\"text-align: right;\">\n",
       "      <th></th>\n",
       "      <th>primary_title</th>\n",
       "      <th>original_title</th>\n",
       "      <th>start_year</th>\n",
       "      <th>runtime_minutes</th>\n",
       "      <th>genres</th>\n",
       "    </tr>\n",
       "  </thead>\n",
       "  <tbody>\n",
       "    <tr>\n",
       "      <th>0</th>\n",
       "      <td>Sunghursh</td>\n",
       "      <td>Sunghursh</td>\n",
       "      <td>2013</td>\n",
       "      <td>175.0</td>\n",
       "      <td>[Action, Crime, Drama]</td>\n",
       "    </tr>\n",
       "    <tr>\n",
       "      <th>1</th>\n",
       "      <td>One Day Before the Rainy Season</td>\n",
       "      <td>Ashad Ka Ek Din</td>\n",
       "      <td>2019</td>\n",
       "      <td>114.0</td>\n",
       "      <td>[Biography, Drama]</td>\n",
       "    </tr>\n",
       "    <tr>\n",
       "      <th>2</th>\n",
       "      <td>The Other Side of the Wind</td>\n",
       "      <td>The Other Side of the Wind</td>\n",
       "      <td>2018</td>\n",
       "      <td>122.0</td>\n",
       "      <td>[Drama]</td>\n",
       "    </tr>\n",
       "    <tr>\n",
       "      <th>3</th>\n",
       "      <td>Sabse Bada Sukh</td>\n",
       "      <td>Sabse Bada Sukh</td>\n",
       "      <td>2018</td>\n",
       "      <td>NaN</td>\n",
       "      <td>[Comedy, Drama]</td>\n",
       "    </tr>\n",
       "    <tr>\n",
       "      <th>4</th>\n",
       "      <td>The Wandering Soap Opera</td>\n",
       "      <td>La Telenovela Errante</td>\n",
       "      <td>2017</td>\n",
       "      <td>80.0</td>\n",
       "      <td>[Comedy, Drama, Fantasy]</td>\n",
       "    </tr>\n",
       "  </tbody>\n",
       "</table>\n",
       "</div>"
      ],
      "text/plain": [
       "                     primary_title              original_title  start_year  \\\n",
       "0                        Sunghursh                   Sunghursh        2013   \n",
       "1  One Day Before the Rainy Season             Ashad Ka Ek Din        2019   \n",
       "2       The Other Side of the Wind  The Other Side of the Wind        2018   \n",
       "3                  Sabse Bada Sukh             Sabse Bada Sukh        2018   \n",
       "4         The Wandering Soap Opera       La Telenovela Errante        2017   \n",
       "\n",
       "   runtime_minutes                    genres  \n",
       "0            175.0    [Action, Crime, Drama]  \n",
       "1            114.0        [Biography, Drama]  \n",
       "2            122.0                   [Drama]  \n",
       "3              NaN           [Comedy, Drama]  \n",
       "4             80.0  [Comedy, Drama, Fantasy]  "
      ]
     },
     "execution_count": 4,
     "metadata": {},
     "output_type": "execute_result"
    }
   ],
   "source": [
    "q = \"\"\"SELECT mb.primary_title,\n",
    "mb.original_title,\n",
    "mb.start_year,\n",
    "mb.runtime_minutes,\n",
    "mb.genres\n",
    "FROM movie_basics as mb\"\"\"\n",
    "movie_df = pd.read_sql(q, conn).drop_duplicates()\n",
    "movie_df['genres'] = movie_df['genres'].str.split(pat=\",\")\n",
    "movie_df.head()"
   ]
  },
  {
   "cell_type": "code",
   "execution_count": 5,
   "metadata": {},
   "outputs": [
    {
     "data": {
      "text/plain": [
       "Documentary    51590\n",
       "Drama          49859\n",
       "Comedy         25303\n",
       "Thriller       11879\n",
       "Horror         10798\n",
       "Name: genres, dtype: int64"
      ]
     },
     "execution_count": 5,
     "metadata": {},
     "output_type": "execute_result"
    }
   ],
   "source": [
    "genre_df = movie_df.explode('genres')\n",
    "genre_df['genres'].value_counts().head()"
   ]
  },
  {
   "cell_type": "markdown",
   "metadata": {},
   "source": [
    "## Create a dataframe for movie budgets\n",
    "\n",
    "I chose to read in the movie budgets csv file to find that the information in it was very string based. With some help from Yoni, I was able to clean the strings away in favor of numbers so I could calculate the ROI."
   ]
  },
  {
   "cell_type": "code",
   "execution_count": 12,
   "metadata": {},
   "outputs": [
    {
     "data": {
      "text/html": [
       "<div>\n",
       "<style scoped>\n",
       "    .dataframe tbody tr th:only-of-type {\n",
       "        vertical-align: middle;\n",
       "    }\n",
       "\n",
       "    .dataframe tbody tr th {\n",
       "        vertical-align: top;\n",
       "    }\n",
       "\n",
       "    .dataframe thead th {\n",
       "        text-align: right;\n",
       "    }\n",
       "</style>\n",
       "<table border=\"1\" class=\"dataframe\">\n",
       "  <thead>\n",
       "    <tr style=\"text-align: right;\">\n",
       "      <th></th>\n",
       "      <th>id</th>\n",
       "      <th>release_date</th>\n",
       "      <th>production_budget</th>\n",
       "      <th>domestic_gross</th>\n",
       "      <th>worldwide_gross</th>\n",
       "      <th>roi</th>\n",
       "    </tr>\n",
       "    <tr>\n",
       "      <th>movie</th>\n",
       "      <th></th>\n",
       "      <th></th>\n",
       "      <th></th>\n",
       "      <th></th>\n",
       "      <th></th>\n",
       "      <th></th>\n",
       "    </tr>\n",
       "  </thead>\n",
       "  <tbody>\n",
       "    <tr>\n",
       "      <th>Avatar</th>\n",
       "      <td>1</td>\n",
       "      <td>Dec 18, 2009</td>\n",
       "      <td>425000000</td>\n",
       "      <td>760507625</td>\n",
       "      <td>2.776345e+09</td>\n",
       "      <td>3.111853e+09</td>\n",
       "    </tr>\n",
       "    <tr>\n",
       "      <th>Pirates of the Caribbean: On Stranger Tides</th>\n",
       "      <td>2</td>\n",
       "      <td>May 20, 2011</td>\n",
       "      <td>410600000</td>\n",
       "      <td>241063875</td>\n",
       "      <td>1.045664e+09</td>\n",
       "      <td>8.761278e+08</td>\n",
       "    </tr>\n",
       "    <tr>\n",
       "      <th>Dark Phoenix</th>\n",
       "      <td>3</td>\n",
       "      <td>Jun 7, 2019</td>\n",
       "      <td>350000000</td>\n",
       "      <td>42762350</td>\n",
       "      <td>1.497624e+08</td>\n",
       "      <td>-1.574753e+08</td>\n",
       "    </tr>\n",
       "    <tr>\n",
       "      <th>Avengers: Age of Ultron</th>\n",
       "      <td>4</td>\n",
       "      <td>May 1, 2015</td>\n",
       "      <td>330600000</td>\n",
       "      <td>459005868</td>\n",
       "      <td>1.403014e+09</td>\n",
       "      <td>1.531420e+09</td>\n",
       "    </tr>\n",
       "    <tr>\n",
       "      <th>Star Wars Ep. VIII: The Last Jedi</th>\n",
       "      <td>5</td>\n",
       "      <td>Dec 15, 2017</td>\n",
       "      <td>317000000</td>\n",
       "      <td>620181382</td>\n",
       "      <td>1.316722e+09</td>\n",
       "      <td>1.619903e+09</td>\n",
       "    </tr>\n",
       "  </tbody>\n",
       "</table>\n",
       "</div>"
      ],
      "text/plain": [
       "                                             id  release_date  \\\n",
       "movie                                                           \n",
       "Avatar                                        1  Dec 18, 2009   \n",
       "Pirates of the Caribbean: On Stranger Tides   2  May 20, 2011   \n",
       "Dark Phoenix                                  3   Jun 7, 2019   \n",
       "Avengers: Age of Ultron                       4   May 1, 2015   \n",
       "Star Wars Ep. VIII: The Last Jedi             5  Dec 15, 2017   \n",
       "\n",
       "                                             production_budget  \\\n",
       "movie                                                            \n",
       "Avatar                                               425000000   \n",
       "Pirates of the Caribbean: On Stranger Tides          410600000   \n",
       "Dark Phoenix                                         350000000   \n",
       "Avengers: Age of Ultron                              330600000   \n",
       "Star Wars Ep. VIII: The Last Jedi                    317000000   \n",
       "\n",
       "                                             domestic_gross  worldwide_gross  \\\n",
       "movie                                                                          \n",
       "Avatar                                            760507625     2.776345e+09   \n",
       "Pirates of the Caribbean: On Stranger Tides       241063875     1.045664e+09   \n",
       "Dark Phoenix                                       42762350     1.497624e+08   \n",
       "Avengers: Age of Ultron                           459005868     1.403014e+09   \n",
       "Star Wars Ep. VIII: The Last Jedi                 620181382     1.316722e+09   \n",
       "\n",
       "                                                      roi  \n",
       "movie                                                      \n",
       "Avatar                                       3.111853e+09  \n",
       "Pirates of the Caribbean: On Stranger Tides  8.761278e+08  \n",
       "Dark Phoenix                                -1.574753e+08  \n",
       "Avengers: Age of Ultron                      1.531420e+09  \n",
       "Star Wars Ep. VIII: The Last Jedi            1.619903e+09  "
      ]
     },
     "execution_count": 12,
     "metadata": {},
     "output_type": "execute_result"
    }
   ],
   "source": [
    "mb_df = pd.read_csv(\"data/tn.movie_budgets.csv\")\n",
    "mb_df = mb_df.set_index('movie')\n",
    "\n",
    "mb_df['production_budget'].replace(to_replace=r'\\D', value=r'', regex=True, inplace=True)\n",
    "mb_df['production_budget'] = mb_df['production_budget'].astype(int)\n",
    "\n",
    "mb_df['domestic_gross'].replace(to_replace=r'\\D', value=r'', regex=True, inplace=True)\n",
    "mb_df['domestic_gross'] = mb_df['domestic_gross'].astype(int)\n",
    "\n",
    "mb_df['worldwide_gross'].replace(to_replace=r'\\D', value=r'', regex=True, inplace=True)\n",
    "mb_df['worldwide_gross'] = mb_df['worldwide_gross'].astype(float) #Turns out, int is too small here\n",
    "\n",
    "mb_df['roi'] = mb_df['domestic_gross'] + mb_df['worldwide_gross'] - mb_df['production_budget'] \n",
    "\n",
    "mb_df.head()"
   ]
  },
  {
   "cell_type": "markdown",
   "metadata": {},
   "source": [
    "## Create and visualize Director ROI Dataframe"
   ]
  },
  {
   "cell_type": "code",
   "execution_count": 13,
   "metadata": {},
   "outputs": [
    {
     "data": {
      "image/png": "[encoded data removed]",
      "text/plain": [
       "<Figure size 432x288 with 1 Axes>"
      ]
     },
     "metadata": {
      "needs_background": "light"
     },
     "output_type": "display_data"
    }
   ],
   "source": [
    "director_roi_df = mb_df.join(director_movie_df.set_index('primary_title'), how=\"inner\")\\\n",
    "    .groupby(['primary_name']).mean()\n",
    "director_roi_df.sort_values(['roi'], ascending=False, inplace=True)\n",
    "director_roi_df.reset_index(inplace=True)\n",
    "\n",
    "f, ax = plt.subplots()\n",
    "sns.barplot(x=\"primary_name\", y=\"roi\", data=director_roi_df.head())\n",
    "ax.set(xlabel=\"Director\", ylabel=\"ROI\", title=\"ROI by Director\");"
   ]
  },
  {
   "cell_type": "markdown",
   "metadata": {},
   "source": [
    "## Create and visualize the Genre ROI Dataframe"
   ]
  },
  {
   "cell_type": "code",
   "execution_count": 8,
   "metadata": {},
   "outputs": [
    {
     "data": {
      "image/png": "[encoded data removed]",
      "text/plain": [
       "<Figure size 432x288 with 1 Axes>"
      ]
     },
     "metadata": {
      "needs_background": "light"
     },
     "output_type": "display_data"
    }
   ],
   "source": [
    "genre_roi_df = mb_df.join(genre_df.set_index('primary_title'), how=\"inner\")\\\n",
    "    .groupby(['genres']).mean()\n",
    "genre_roi_df.sort_values(['roi'], ascending=False, inplace=True)\n",
    "genre_roi_df.reset_index(inplace=True)\n",
    "\n",
    "f, ax = plt.subplots()\n",
    "sns.barplot(x=\"roi\", y=\"genres\", data=genre_roi_df.head())\n",
    "ax.set(ylabel=\"Genre\", xlabel=\"ROI\", title=\"ROI by Genre\")\n",
    "sns.despine(left=True, bottom=True)"
   ]
  },
  {
   "cell_type": "markdown",
   "metadata": {},
   "source": [
    "## Create and visualize Runtime ROI Dataframe"
   ]
  },
  {
   "cell_type": "code",
   "execution_count": 9,
   "metadata": {},
   "outputs": [
    {
     "data": {
      "image/png": "[encoded data removed]",
      "text/plain": [
       "<Figure size 432x288 with 1 Axes>"
      ]
     },
     "metadata": {
      "needs_background": "light"
     },
     "output_type": "display_data"
    }
   ],
   "source": [
    "rt_roi_df = mb_df.join(movie_df.set_index(\"primary_title\"), how=\"inner\")\n",
    "rt_roi_df.dropna(subset=[\"runtime_minutes\"], inplace=True)\n",
    "\n",
    "f, ax = plt.subplots()\n",
    "sns.scatterplot(x=\"runtime_minutes\", y=\"roi\", data=rt_roi_df);\n",
    "ax.set(xlabel=\"Runtime in Minutes\", ylabel=\"ROI\", title=\"ROI by Runtime\");"
   ]
  },
  {
   "cell_type": "markdown",
   "metadata": {},
   "source": [
    "## Recommendations:\n",
    "1. Do an animated film\n",
    "2. Hire Atsushi Wada to direct\n",
    "3. The best seems to be around 100 minutes in runtime so I would go for that"
   ]
  }
 ],
 "metadata": {
  "kernelspec": {
   "display_name": "Python (learn-env)",
   "language": "python",
   "name": "learn-env"
  },
  "language_info": {
   "codemirror_mode": {
    "name": "ipython",
    "version": 3
   },
   "file_extension": ".py",
   "mimetype": "text/x-python",
   "name": "python",
   "nbconvert_exporter": "python",
   "pygments_lexer": "ipython3",
   "version": "3.8.5"
  }
 },
 "nbformat": 4,
 "nbformat_minor": 2
}
