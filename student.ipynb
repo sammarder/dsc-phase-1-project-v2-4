{
 "cells": [
  {
   "cell_type": "markdown",
   "metadata": {},
   "source": [
    "## Final Project Submission\n",
    "\n",
    "Please fill out:\n",
    "* Student name: Samuel Marder\n",
    "* Student pace: Flex-20 week\n",
    "* Scheduled project review date/time: \n",
    "* Instructor name: Matt Carr\n",
    "* Blog post URL: https://medium.com/@samuel.s.marder/slight-right-onto-data-science-64912ef3bd67\n"
   ]
  },
  {
   "cell_type": "markdown",
   "metadata": {},
   "source": [
    "# Overview\n",
    "\n",
    "This project analyzes basic movie data to give Microsoft an idea on how to enter the market. Data analysis of various sources shows how different aspects affect the return on investment of the movie. This ranges from who should direct to the kind of film they should be making along with how long to make the film.\n",
    "\n",
    "# Business Problem\n",
    "\n",
    "Microsoft needs to figure out the best way to invest in the first movie as a studio. Through examination of data provided from IMDB and TN, I can show some good ways to invest capital in the first film.\n",
    "\n",
    "# Data Analysis"
   ]
  },
  {
   "cell_type": "code",
   "execution_count": 25,
   "metadata": {},
   "outputs": [],
   "source": [
    "import pandas as pd\n",
    "import seaborn as sns\n",
    "import numpy as np\n",
    "import sqlite3\n",
    "import matplotlib.pyplot as plt\n",
    "%matplotlib inline"
   ]
  },
  {
   "cell_type": "code",
   "execution_count": 47,
   "metadata": {},
   "outputs": [],
   "source": [
    "conn = sqlite3.connect(\"data/im.db\")\n",
    "sns.set(font_scale = 1)\n",
    "pal = sns.color_palette(\"Blues\", as_cmap=True)"
   ]
  },
  {
   "cell_type": "markdown",
   "metadata": {},
   "source": [
    "First, I am gathering data for the movie directors"
   ]
  },
  {
   "cell_type": "code",
   "execution_count": 27,
   "metadata": {},
   "outputs": [
    {
     "data": {
      "text/html": [
       "<div>\n",
       "<style scoped>\n",
       "    .dataframe tbody tr th:only-of-type {\n",
       "        vertical-align: middle;\n",
       "    }\n",
       "\n",
       "    .dataframe tbody tr th {\n",
       "        vertical-align: top;\n",
       "    }\n",
       "\n",
       "    .dataframe thead th {\n",
       "        text-align: right;\n",
       "    }\n",
       "</style>\n",
       "<table border=\"1\" class=\"dataframe\">\n",
       "  <thead>\n",
       "    <tr style=\"text-align: right;\">\n",
       "      <th></th>\n",
       "      <th>director</th>\n",
       "      <th>primary_title</th>\n",
       "    </tr>\n",
       "  </thead>\n",
       "  <tbody>\n",
       "    <tr>\n",
       "      <th>0</th>\n",
       "      <td>Ruel S. Bayani</td>\n",
       "      <td>Paano na kaya</td>\n",
       "    </tr>\n",
       "    <tr>\n",
       "      <th>4</th>\n",
       "      <td>Ruel S. Bayani</td>\n",
       "      <td>No Other Woman</td>\n",
       "    </tr>\n",
       "    <tr>\n",
       "      <th>7</th>\n",
       "      <td>Ruel S. Bayani</td>\n",
       "      <td>One More Try</td>\n",
       "    </tr>\n",
       "    <tr>\n",
       "      <th>8</th>\n",
       "      <td>Ruel S. Bayani</td>\n",
       "      <td>Kasal</td>\n",
       "    </tr>\n",
       "    <tr>\n",
       "      <th>10</th>\n",
       "      <td>Bryan Beasley</td>\n",
       "      <td>The Quiet Philanthropist: The Edith Gaylord Story</td>\n",
       "    </tr>\n",
       "  </tbody>\n",
       "</table>\n",
       "</div>"
      ],
      "text/plain": [
       "          director                                      primary_title\n",
       "0   Ruel S. Bayani                                      Paano na kaya\n",
       "4   Ruel S. Bayani                                     No Other Woman\n",
       "7   Ruel S. Bayani                                       One More Try\n",
       "8   Ruel S. Bayani                                              Kasal\n",
       "10   Bryan Beasley  The Quiet Philanthropist: The Edith Gaylord Story"
      ]
     },
     "execution_count": 27,
     "metadata": {},
     "output_type": "execute_result"
    }
   ],
   "source": [
    "q = \"\"\"SELECT p.primary_name AS director,\n",
    "mb.primary_title\n",
    "FROM persons AS p \n",
    "JOIN directors USING (person_id)\n",
    "JOIN movie_basics AS mb USING (movie_id)\"\"\"\n",
    "director_movie_df = pd.read_sql(q, conn).drop_duplicates()\n",
    "director_movie_df.head()"
   ]
  },
  {
   "cell_type": "code",
   "execution_count": 28,
   "metadata": {},
   "outputs": [
    {
     "data": {
      "text/html": [
       "<div>\n",
       "<style scoped>\n",
       "    .dataframe tbody tr th:only-of-type {\n",
       "        vertical-align: middle;\n",
       "    }\n",
       "\n",
       "    .dataframe tbody tr th {\n",
       "        vertical-align: top;\n",
       "    }\n",
       "\n",
       "    .dataframe thead th {\n",
       "        text-align: right;\n",
       "    }\n",
       "</style>\n",
       "<table border=\"1\" class=\"dataframe\">\n",
       "  <thead>\n",
       "    <tr style=\"text-align: right;\">\n",
       "      <th></th>\n",
       "      <th>director</th>\n",
       "    </tr>\n",
       "    <tr>\n",
       "      <th>primary_title</th>\n",
       "      <th></th>\n",
       "    </tr>\n",
       "  </thead>\n",
       "  <tbody>\n",
       "    <tr>\n",
       "      <th>Paano na kaya</th>\n",
       "      <td>Ruel S. Bayani</td>\n",
       "    </tr>\n",
       "    <tr>\n",
       "      <th>No Other Woman</th>\n",
       "      <td>Ruel S. Bayani</td>\n",
       "    </tr>\n",
       "    <tr>\n",
       "      <th>One More Try</th>\n",
       "      <td>Ruel S. Bayani</td>\n",
       "    </tr>\n",
       "    <tr>\n",
       "      <th>Kasal</th>\n",
       "      <td>Ruel S. Bayani</td>\n",
       "    </tr>\n",
       "    <tr>\n",
       "      <th>The Quiet Philanthropist: The Edith Gaylord Story</th>\n",
       "      <td>Bryan Beasley</td>\n",
       "    </tr>\n",
       "  </tbody>\n",
       "</table>\n",
       "</div>"
      ],
      "text/plain": [
       "                                                         director\n",
       "primary_title                                                    \n",
       "Paano na kaya                                      Ruel S. Bayani\n",
       "No Other Woman                                     Ruel S. Bayani\n",
       "One More Try                                       Ruel S. Bayani\n",
       "Kasal                                              Ruel S. Bayani\n",
       "The Quiet Philanthropist: The Edith Gaylord Story   Bryan Beasley"
      ]
     },
     "execution_count": 28,
     "metadata": {},
     "output_type": "execute_result"
    }
   ],
   "source": [
    "director_movie_df.set_index('primary_title', inplace=True)\n",
    "director_movie_df.head()"
   ]
  },
  {
   "cell_type": "markdown",
   "metadata": {},
   "source": [
    "Second, I am pulling information about the runtime and genre of each movie"
   ]
  },
  {
   "cell_type": "code",
   "execution_count": 29,
   "metadata": {},
   "outputs": [
    {
     "data": {
      "text/html": [
       "<div>\n",
       "<style scoped>\n",
       "    .dataframe tbody tr th:only-of-type {\n",
       "        vertical-align: middle;\n",
       "    }\n",
       "\n",
       "    .dataframe tbody tr th {\n",
       "        vertical-align: top;\n",
       "    }\n",
       "\n",
       "    .dataframe thead th {\n",
       "        text-align: right;\n",
       "    }\n",
       "</style>\n",
       "<table border=\"1\" class=\"dataframe\">\n",
       "  <thead>\n",
       "    <tr style=\"text-align: right;\">\n",
       "      <th></th>\n",
       "      <th>primary_title</th>\n",
       "      <th>runtime_minutes</th>\n",
       "      <th>genres</th>\n",
       "    </tr>\n",
       "  </thead>\n",
       "  <tbody>\n",
       "    <tr>\n",
       "      <th>0</th>\n",
       "      <td>Sunghursh</td>\n",
       "      <td>175.0</td>\n",
       "      <td>Action,Crime,Drama</td>\n",
       "    </tr>\n",
       "    <tr>\n",
       "      <th>1</th>\n",
       "      <td>One Day Before the Rainy Season</td>\n",
       "      <td>114.0</td>\n",
       "      <td>Biography,Drama</td>\n",
       "    </tr>\n",
       "    <tr>\n",
       "      <th>2</th>\n",
       "      <td>The Other Side of the Wind</td>\n",
       "      <td>122.0</td>\n",
       "      <td>Drama</td>\n",
       "    </tr>\n",
       "    <tr>\n",
       "      <th>3</th>\n",
       "      <td>Sabse Bada Sukh</td>\n",
       "      <td>NaN</td>\n",
       "      <td>Comedy,Drama</td>\n",
       "    </tr>\n",
       "    <tr>\n",
       "      <th>4</th>\n",
       "      <td>The Wandering Soap Opera</td>\n",
       "      <td>80.0</td>\n",
       "      <td>Comedy,Drama,Fantasy</td>\n",
       "    </tr>\n",
       "  </tbody>\n",
       "</table>\n",
       "</div>"
      ],
      "text/plain": [
       "                     primary_title  runtime_minutes                genres\n",
       "0                        Sunghursh            175.0    Action,Crime,Drama\n",
       "1  One Day Before the Rainy Season            114.0       Biography,Drama\n",
       "2       The Other Side of the Wind            122.0                 Drama\n",
       "3                  Sabse Bada Sukh              NaN          Comedy,Drama\n",
       "4         The Wandering Soap Opera             80.0  Comedy,Drama,Fantasy"
      ]
     },
     "execution_count": 29,
     "metadata": {},
     "output_type": "execute_result"
    }
   ],
   "source": [
    "q = \"\"\"SELECT mb.primary_title,\n",
    "mb.runtime_minutes,\n",
    "mb.genres\n",
    "FROM movie_basics as mb\"\"\"\n",
    "movie_df = pd.read_sql(q, conn).drop_duplicates()\n",
    "movie_df.head()"
   ]
  },
  {
   "cell_type": "code",
   "execution_count": 30,
   "metadata": {},
   "outputs": [],
   "source": [
    "#Bining up runtime\n",
    "def bin_runtime(rt):\n",
    "    if(rt <= 30):\n",
    "        return \"0 to 30\"\n",
    "    elif(rt <= 60):\n",
    "        return \"30 to 60\"\n",
    "    elif(rt <= 90):\n",
    "        return \"60 to 90\"\n",
    "    elif(rt <= 120):\n",
    "        return \"90 to 120\"\n",
    "    elif(rt <= 150):\n",
    "        return \"120 to 150\"\n",
    "    else:\n",
    "        return \"150+\""
   ]
  },
  {
   "cell_type": "code",
   "execution_count": 31,
   "metadata": {},
   "outputs": [
    {
     "data": {
      "text/html": [
       "<div>\n",
       "<style scoped>\n",
       "    .dataframe tbody tr th:only-of-type {\n",
       "        vertical-align: middle;\n",
       "    }\n",
       "\n",
       "    .dataframe tbody tr th {\n",
       "        vertical-align: top;\n",
       "    }\n",
       "\n",
       "    .dataframe thead th {\n",
       "        text-align: right;\n",
       "    }\n",
       "</style>\n",
       "<table border=\"1\" class=\"dataframe\">\n",
       "  <thead>\n",
       "    <tr style=\"text-align: right;\">\n",
       "      <th></th>\n",
       "      <th>runtime_minutes</th>\n",
       "      <th>genres</th>\n",
       "      <th>runtime_bins</th>\n",
       "    </tr>\n",
       "    <tr>\n",
       "      <th>primary_title</th>\n",
       "      <th></th>\n",
       "      <th></th>\n",
       "      <th></th>\n",
       "    </tr>\n",
       "  </thead>\n",
       "  <tbody>\n",
       "    <tr>\n",
       "      <th>Sunghursh</th>\n",
       "      <td>175.0</td>\n",
       "      <td>[Action, Crime, Drama]</td>\n",
       "      <td>150+</td>\n",
       "    </tr>\n",
       "    <tr>\n",
       "      <th>One Day Before the Rainy Season</th>\n",
       "      <td>114.0</td>\n",
       "      <td>[Biography, Drama]</td>\n",
       "      <td>90 to 120</td>\n",
       "    </tr>\n",
       "    <tr>\n",
       "      <th>The Other Side of the Wind</th>\n",
       "      <td>122.0</td>\n",
       "      <td>[Drama]</td>\n",
       "      <td>120 to 150</td>\n",
       "    </tr>\n",
       "    <tr>\n",
       "      <th>Sabse Bada Sukh</th>\n",
       "      <td>NaN</td>\n",
       "      <td>[Comedy, Drama]</td>\n",
       "      <td>150+</td>\n",
       "    </tr>\n",
       "    <tr>\n",
       "      <th>The Wandering Soap Opera</th>\n",
       "      <td>80.0</td>\n",
       "      <td>[Comedy, Drama, Fantasy]</td>\n",
       "      <td>60 to 90</td>\n",
       "    </tr>\n",
       "  </tbody>\n",
       "</table>\n",
       "</div>"
      ],
      "text/plain": [
       "                                 runtime_minutes                    genres  \\\n",
       "primary_title                                                                \n",
       "Sunghursh                                  175.0    [Action, Crime, Drama]   \n",
       "One Day Before the Rainy Season            114.0        [Biography, Drama]   \n",
       "The Other Side of the Wind                 122.0                   [Drama]   \n",
       "Sabse Bada Sukh                              NaN           [Comedy, Drama]   \n",
       "The Wandering Soap Opera                    80.0  [Comedy, Drama, Fantasy]   \n",
       "\n",
       "                                runtime_bins  \n",
       "primary_title                                 \n",
       "Sunghursh                               150+  \n",
       "One Day Before the Rainy Season    90 to 120  \n",
       "The Other Side of the Wind        120 to 150  \n",
       "Sabse Bada Sukh                         150+  \n",
       "The Wandering Soap Opera            60 to 90  "
      ]
     },
     "execution_count": 31,
     "metadata": {},
     "output_type": "execute_result"
    }
   ],
   "source": [
    "movie_df['genres'] = movie_df['genres'].str.split(pat=\",\")\n",
    "movie_df['runtime_bins'] = movie_df['runtime_minutes'].apply(bin_runtime)\n",
    "movie_df.set_index(\"primary_title\", inplace=True)\n",
    "movie_df.head()"
   ]
  },
  {
   "cell_type": "code",
   "execution_count": 32,
   "metadata": {},
   "outputs": [
    {
     "data": {
      "text/html": [
       "<div>\n",
       "<style scoped>\n",
       "    .dataframe tbody tr th:only-of-type {\n",
       "        vertical-align: middle;\n",
       "    }\n",
       "\n",
       "    .dataframe tbody tr th {\n",
       "        vertical-align: top;\n",
       "    }\n",
       "\n",
       "    .dataframe thead th {\n",
       "        text-align: right;\n",
       "    }\n",
       "</style>\n",
       "<table border=\"1\" class=\"dataframe\">\n",
       "  <thead>\n",
       "    <tr style=\"text-align: right;\">\n",
       "      <th></th>\n",
       "      <th>runtime_minutes</th>\n",
       "      <th>genres</th>\n",
       "      <th>runtime_bins</th>\n",
       "    </tr>\n",
       "    <tr>\n",
       "      <th>primary_title</th>\n",
       "      <th></th>\n",
       "      <th></th>\n",
       "      <th></th>\n",
       "    </tr>\n",
       "  </thead>\n",
       "  <tbody>\n",
       "    <tr>\n",
       "      <th>Sunghursh</th>\n",
       "      <td>175.0</td>\n",
       "      <td>Action</td>\n",
       "      <td>150+</td>\n",
       "    </tr>\n",
       "    <tr>\n",
       "      <th>Sunghursh</th>\n",
       "      <td>175.0</td>\n",
       "      <td>Crime</td>\n",
       "      <td>150+</td>\n",
       "    </tr>\n",
       "    <tr>\n",
       "      <th>Sunghursh</th>\n",
       "      <td>175.0</td>\n",
       "      <td>Drama</td>\n",
       "      <td>150+</td>\n",
       "    </tr>\n",
       "    <tr>\n",
       "      <th>One Day Before the Rainy Season</th>\n",
       "      <td>114.0</td>\n",
       "      <td>Biography</td>\n",
       "      <td>90 to 120</td>\n",
       "    </tr>\n",
       "    <tr>\n",
       "      <th>One Day Before the Rainy Season</th>\n",
       "      <td>114.0</td>\n",
       "      <td>Drama</td>\n",
       "      <td>90 to 120</td>\n",
       "    </tr>\n",
       "  </tbody>\n",
       "</table>\n",
       "</div>"
      ],
      "text/plain": [
       "                                 runtime_minutes     genres runtime_bins\n",
       "primary_title                                                           \n",
       "Sunghursh                                  175.0     Action         150+\n",
       "Sunghursh                                  175.0      Crime         150+\n",
       "Sunghursh                                  175.0      Drama         150+\n",
       "One Day Before the Rainy Season            114.0  Biography    90 to 120\n",
       "One Day Before the Rainy Season            114.0      Drama    90 to 120"
      ]
     },
     "execution_count": 32,
     "metadata": {},
     "output_type": "execute_result"
    }
   ],
   "source": [
    "genre_df = movie_df.explode('genres')\n",
    "genre_df.head()"
   ]
  },
  {
   "cell_type": "markdown",
   "metadata": {},
   "source": [
    "## Create a dataframe for movie budgets\n",
    "\n",
    "I chose to read in the movie budgets csv file to find that the information in it was very string based. With some help from Yoni, I was able to clean the strings away in favor of numbers so I could calculate the ROI. I also stripped away all information that was not related to ROI to make merging and aggregation easier."
   ]
  },
  {
   "cell_type": "code",
   "execution_count": 33,
   "metadata": {},
   "outputs": [
    {
     "data": {
      "text/html": [
       "<div>\n",
       "<style scoped>\n",
       "    .dataframe tbody tr th:only-of-type {\n",
       "        vertical-align: middle;\n",
       "    }\n",
       "\n",
       "    .dataframe tbody tr th {\n",
       "        vertical-align: top;\n",
       "    }\n",
       "\n",
       "    .dataframe thead th {\n",
       "        text-align: right;\n",
       "    }\n",
       "</style>\n",
       "<table border=\"1\" class=\"dataframe\">\n",
       "  <thead>\n",
       "    <tr style=\"text-align: right;\">\n",
       "      <th></th>\n",
       "      <th>roi</th>\n",
       "    </tr>\n",
       "    <tr>\n",
       "      <th>movie</th>\n",
       "      <th></th>\n",
       "    </tr>\n",
       "  </thead>\n",
       "  <tbody>\n",
       "    <tr>\n",
       "      <th>Avatar</th>\n",
       "      <td>3.111853e+09</td>\n",
       "    </tr>\n",
       "    <tr>\n",
       "      <th>Pirates of the Caribbean: On Stranger Tides</th>\n",
       "      <td>8.761278e+08</td>\n",
       "    </tr>\n",
       "    <tr>\n",
       "      <th>Dark Phoenix</th>\n",
       "      <td>-1.574753e+08</td>\n",
       "    </tr>\n",
       "    <tr>\n",
       "      <th>Avengers: Age of Ultron</th>\n",
       "      <td>1.531420e+09</td>\n",
       "    </tr>\n",
       "    <tr>\n",
       "      <th>Star Wars Ep. VIII: The Last Jedi</th>\n",
       "      <td>1.619903e+09</td>\n",
       "    </tr>\n",
       "  </tbody>\n",
       "</table>\n",
       "</div>"
      ],
      "text/plain": [
       "                                                      roi\n",
       "movie                                                    \n",
       "Avatar                                       3.111853e+09\n",
       "Pirates of the Caribbean: On Stranger Tides  8.761278e+08\n",
       "Dark Phoenix                                -1.574753e+08\n",
       "Avengers: Age of Ultron                      1.531420e+09\n",
       "Star Wars Ep. VIII: The Last Jedi            1.619903e+09"
      ]
     },
     "execution_count": 33,
     "metadata": {},
     "output_type": "execute_result"
    }
   ],
   "source": [
    "mb_df = pd.read_csv(\"data/tn.movie_budgets.csv\")\n",
    "mb_df = mb_df.set_index('movie')\n",
    "\n",
    "mb_df['production_budget'].replace(to_replace=r'\\D', value=r'', regex=True, inplace=True)\n",
    "mb_df['production_budget'] = mb_df['production_budget'].astype(int)\n",
    "\n",
    "mb_df['domestic_gross'].replace(to_replace=r'\\D', value=r'', regex=True, inplace=True)\n",
    "mb_df['domestic_gross'] = mb_df['domestic_gross'].astype(int)\n",
    "\n",
    "mb_df['worldwide_gross'].replace(to_replace=r'\\D', value=r'', regex=True, inplace=True)\n",
    "mb_df['worldwide_gross'] = mb_df['worldwide_gross'].astype(float) #Turns out, int is too small here\n",
    "\n",
    "mb_df['roi'] = mb_df['domestic_gross'] + mb_df['worldwide_gross'] - mb_df['production_budget'] \n",
    "\n",
    "mb_df.drop(columns = ['id', 'release_date', 'production_budget', 'domestic_gross', 'worldwide_gross'], inplace=True)\n",
    "\n",
    "mb_df.head()"
   ]
  },
  {
   "cell_type": "markdown",
   "metadata": {},
   "source": [
    "## Create and visualize Director ROI Dataframe\n",
    "I pulled data together from the movie budgets and director movie data frames so I can aggregate an average ROI based on the director of the film in question."
   ]
  },
  {
   "cell_type": "code",
   "execution_count": 55,
   "metadata": {},
   "outputs": [
    {
     "data": {
      "text/html": [
       "<div>\n",
       "<style scoped>\n",
       "    .dataframe tbody tr th:only-of-type {\n",
       "        vertical-align: middle;\n",
       "    }\n",
       "\n",
       "    .dataframe tbody tr th {\n",
       "        vertical-align: top;\n",
       "    }\n",
       "\n",
       "    .dataframe thead th {\n",
       "        text-align: right;\n",
       "    }\n",
       "</style>\n",
       "<table border=\"1\" class=\"dataframe\">\n",
       "  <thead>\n",
       "    <tr style=\"text-align: right;\">\n",
       "      <th></th>\n",
       "      <th>director</th>\n",
       "      <th>roi</th>\n",
       "    </tr>\n",
       "  </thead>\n",
       "  <tbody>\n",
       "    <tr>\n",
       "      <th>0</th>\n",
       "      <td>Atsushi Wada</td>\n",
       "      <td>3.111853e+09</td>\n",
       "    </tr>\n",
       "    <tr>\n",
       "      <th>1</th>\n",
       "      <td>Kevin Lincoln</td>\n",
       "      <td>2.667572e+09</td>\n",
       "    </tr>\n",
       "    <tr>\n",
       "      <th>2</th>\n",
       "      <td>Pete Meads</td>\n",
       "      <td>2.667572e+09</td>\n",
       "    </tr>\n",
       "    <tr>\n",
       "      <th>3</th>\n",
       "      <td>Ravi Punj</td>\n",
       "      <td>2.667572e+09</td>\n",
       "    </tr>\n",
       "    <tr>\n",
       "      <th>4</th>\n",
       "      <td>Adam Green</td>\n",
       "      <td>1.523208e+09</td>\n",
       "    </tr>\n",
       "    <tr>\n",
       "      <th>...</th>\n",
       "      <td>...</td>\n",
       "      <td>...</td>\n",
       "    </tr>\n",
       "    <tr>\n",
       "      <th>3236</th>\n",
       "      <td>Terry George</td>\n",
       "      <td>-7.122430e+07</td>\n",
       "    </tr>\n",
       "    <tr>\n",
       "      <th>3237</th>\n",
       "      <td>Zeljko Mirkovic</td>\n",
       "      <td>-7.122430e+07</td>\n",
       "    </tr>\n",
       "    <tr>\n",
       "      <th>3238</th>\n",
       "      <td>Candy J. Beard</td>\n",
       "      <td>-7.122430e+07</td>\n",
       "    </tr>\n",
       "    <tr>\n",
       "      <th>3239</th>\n",
       "      <td>Simon Wells</td>\n",
       "      <td>-8.905748e+07</td>\n",
       "    </tr>\n",
       "    <tr>\n",
       "      <th>3240</th>\n",
       "      <td>Simon Kinberg</td>\n",
       "      <td>-1.574753e+08</td>\n",
       "    </tr>\n",
       "  </tbody>\n",
       "</table>\n",
       "<p>3241 rows × 2 columns</p>\n",
       "</div>"
      ],
      "text/plain": [
       "             director           roi\n",
       "0        Atsushi Wada  3.111853e+09\n",
       "1       Kevin Lincoln  2.667572e+09\n",
       "2          Pete Meads  2.667572e+09\n",
       "3           Ravi Punj  2.667572e+09\n",
       "4          Adam Green  1.523208e+09\n",
       "...               ...           ...\n",
       "3236     Terry George -7.122430e+07\n",
       "3237  Zeljko Mirkovic -7.122430e+07\n",
       "3238   Candy J. Beard -7.122430e+07\n",
       "3239      Simon Wells -8.905748e+07\n",
       "3240    Simon Kinberg -1.574753e+08\n",
       "\n",
       "[3241 rows x 2 columns]"
      ]
     },
     "execution_count": 55,
     "metadata": {},
     "output_type": "execute_result"
    }
   ],
   "source": [
    "director_roi_df = mb_df.join(director_movie_df, how=\"inner\")\n",
    "director_roi_df = director_roi_df.groupby(['director']).mean()\n",
    "director_roi_df.sort_values(['roi'], ascending=False, inplace=True)\n",
    "director_roi_df.reset_index(inplace=True)\n",
    "director_roi_df"
   ]
  },
  {
   "cell_type": "code",
   "execution_count": 59,
   "metadata": {},
   "outputs": [
    {
     "data": {
      "image/png": "[encoded data removed]",
      "text/plain": [
       "<Figure size 432x288 with 1 Axes>"
      ]
     },
     "metadata": {},
     "output_type": "display_data"
    }
   ],
   "source": [
    "f, ax = plt.subplots()\n",
    "clrs = ['grey' if (x < max(director_roi_df['roi'])) else 'green' for x in director_roi_df['roi']]\n",
    "sns.barplot(x=\"director\", y=\"roi\", data=director_roi_df.head(), palette=clrs)\n",
    "ax.set(xlabel=\"Director\", ylabel=\"ROI\", title=\"ROI by Director\");\n",
    "plt.savefig(\"./images/Director_ROI.png\")"
   ]
  },
  {
   "cell_type": "markdown",
   "metadata": {},
   "source": [
    "## Create and visualize the Genre ROI Dataframe\n",
    "I create the genre ROI data frame much like I did director but aggregating on genres instead of director"
   ]
  },
  {
   "cell_type": "code",
   "execution_count": 36,
   "metadata": {},
   "outputs": [],
   "source": [
    "genre_roi_df = mb_df.join(genre_df, how=\"inner\")\n",
    "genre_roi_df = genre_roi_df.groupby(['genres']).mean()\n",
    "genre_roi_df.sort_values(['roi'], ascending=False, inplace=True)\n",
    "genre_roi_df.reset_index(inplace=True)"
   ]
  },
  {
   "cell_type": "code",
   "execution_count": 60,
   "metadata": {},
   "outputs": [
    {
     "data": {
      "image/png": "[encoded data removed]",
      "text/plain": [
       "<Figure size 432x288 with 1 Axes>"
      ]
     },
     "metadata": {},
     "output_type": "display_data"
    }
   ],
   "source": [
    "f, ax = plt.subplots()\n",
    "clrs = ['grey' if (x < max(genre_roi_df['roi'])) else 'green' for x in genre_roi_df['roi']]\n",
    "sns.barplot(x=\"roi\", y=\"genres\", data=genre_roi_df.head(), palette=clrs)\n",
    "ax.set(ylabel=\"Genre\", xlabel=\"ROI\", title=\"ROI by Genre\")\n",
    "plt.savefig('./images/Genre_ROI.png');"
   ]
  },
  {
   "cell_type": "markdown",
   "metadata": {},
   "source": [
    "## Create and visualize Runtime ROI Dataframe\n",
    "For the final data frame, I combine the movie budget dataframe with the movie dataframe."
   ]
  },
  {
   "cell_type": "code",
   "execution_count": 66,
   "metadata": {},
   "outputs": [],
   "source": [
    "rt_roi_df = mb_df.join(movie_df, how=\"inner\")\n",
    "rt_roi_df.dropna(subset=[\"runtime_minutes\"], inplace=True) #Removing ~400 movies with no runtime\n",
    "rt_roi_df = rt_roi_df.groupby(['runtime_bins']).mean()\n",
    "rt_roi_df.sort_values(['roi'], ascending=False, inplace=True)\n",
    "rt_roi_df.reset_index(inplace=True)"
   ]
  },
  {
   "cell_type": "code",
   "execution_count": 67,
   "metadata": {},
   "outputs": [
    {
     "data": {
      "image/png": "[encoded data removed]",
      "text/plain": [
       "<Figure size 432x288 with 1 Axes>"
      ]
     },
     "metadata": {},
     "output_type": "display_data"
    }
   ],
   "source": [
    "f, ax = plt.subplots()\n",
    "clrs = ['grey' if (x < max(rt_roi_df['roi'])) else 'green' for x in rt_roi_df['roi']]\n",
    "sns.barplot(x=\"runtime_bins\", y=\"roi\", data=rt_roi_df, palette=clrs);\n",
    "ax.set(xlabel=\"Runtime in Minutes\", ylabel=\"ROI\", title=\"ROI by Runtime\")\n",
    "plt.savefig('./images/Runtime_ROI.png');"
   ]
  },
  {
   "cell_type": "markdown",
   "metadata": {},
   "source": [
    "# Recommendations:\n",
    "1. Do an animated film\n",
    "2. Hire Atsushi Wada to direct\n",
    "3. The best seems to be around 120 to 150 minutes in runtime\n",
    "\n",
    "# Next steps\n",
    "* One flaw is my methods can be misleading by the number of observations in each bin i.e. Mr Wada may have made one outstanding film while Mr Lincoln has more stable ROI in comparison, additional analysis might be able to negate this flaw\n",
    "* Further analysis could be done to provide a more comprehensive crew such as writers and actors from the IMDB sqlite db"
   ]
  },
  {
   "cell_type": "code",
   "execution_count": null,
   "metadata": {},
   "outputs": [],
   "source": []
  }
 ],
 "metadata": {
  "kernelspec": {
   "display_name": "Python (learn-env)",
   "language": "python",
   "name": "learn-env"
  },
  "language_info": {
   "codemirror_mode": {
    "name": "ipython",
    "version": 3
   },
   "file_extension": ".py",
   "mimetype": "text/x-python",
   "name": "python",
   "nbconvert_exporter": "python",
   "pygments_lexer": "ipython3",
   "version": "3.8.5"
  }
 },
 "nbformat": 4,
 "nbformat_minor": 2
}
